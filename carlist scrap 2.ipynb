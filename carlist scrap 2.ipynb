{
 "cells": [
  {
   "cell_type": "code",
   "execution_count": 62,
   "id": "e7ef3e81",
   "metadata": {},
   "outputs": [],
   "source": [
    "import pandas as pd\n",
    "import re\n",
    "import numpy as np\n",
    "import seaborn as sns\n",
    "from matplotlib import pyplot as plt"
   ]
  },
  {
   "cell_type": "code",
   "execution_count": 17,
   "id": "8e4874e3",
   "metadata": {},
   "outputs": [],
   "source": [
    "df=pd.read_csv('D:\\PycharmProjects\\pythonProject\\spider_engine1\\out.csv')"
   ]
  },
  {
   "cell_type": "code",
   "execution_count": 18,
   "id": "d5b949db",
   "metadata": {},
   "outputs": [],
   "source": [
    "df.rename(columns=lambda x: x.replace(\".\",\"_\"), inplace=True)"
   ]
  },
  {
   "cell_type": "code",
   "execution_count": 19,
   "id": "b88e72f6",
   "metadata": {},
   "outputs": [
    {
     "data": {
      "text/plain": [
       "array(['BMW', 'Volvo', 'Honda', 'Volkswagen', 'Suzuki', 'Subaru',\n",
       "       'Peugeot', 'Mitsubishi', 'MINI', 'Mazda', 'Lexus', 'Land Rover',\n",
       "       'Lamborghini', 'Kia', 'Isuzu', 'Hyundai', 'Ford', 'Ferrari',\n",
       "       'Chevrolet', 'Audi', 'Toyota', 'Proton', 'Porsche', 'Perodua',\n",
       "       'Nissan', 'Mercedes-Benz', 'Austin', 'Alfa Romeo', 'Aston Martin',\n",
       "       'Bentley', 'Bison', 'Bufori', 'Borgward', 'Cadillac', 'Changan',\n",
       "       'Chana', 'CAM', 'Chery', 'Chrysler', 'Citroen', 'Daihatsu',\n",
       "       'Farid', 'Foton', 'Fiat', 'Great Wall', 'Hicom', 'Haval', 'Hino',\n",
       "       'Hummer', 'Impul', 'Infiniti', 'Inokom', 'Jaguar', 'JBC', 'Jeep',\n",
       "       'King Long', 'LMG', 'JMC', 'Mahindra', 'Lotus', 'Kubota',\n",
       "       'Maserati', 'Maxus', 'McLaren', 'MG', 'Mercedes-Maybach',\n",
       "       'Mitsuoka', 'Naza', 'Renault', 'Rover', 'Rolls-Royce',\n",
       "       'Shenyang Brilliance', 'Smart', 'Skoda', 'TESLA', 'TD2000',\n",
       "       'ZX Auto', 'Wald', 'Ssangyong', 'ZNA'], dtype=object)"
      ]
     },
     "execution_count": 19,
     "metadata": {},
     "output_type": "execute_result"
    }
   ],
   "source": [
    "df.item_brand_name.unique()"
   ]
  },
  {
   "cell_type": "code",
   "execution_count": 20,
   "id": "e4858dda",
   "metadata": {},
   "outputs": [
    {
     "data": {
      "text/plain": [
       "89608"
      ]
     },
     "execution_count": 20,
     "metadata": {},
     "output_type": "execute_result"
    }
   ],
   "source": [
    "df.item_url.nunique()"
   ]
  },
  {
   "cell_type": "code",
   "execution_count": 21,
   "id": "ada94649",
   "metadata": {},
   "outputs": [
    {
     "data": {
      "text/html": [
       "<div>\n",
       "<style scoped>\n",
       "    .dataframe tbody tr th:only-of-type {\n",
       "        vertical-align: middle;\n",
       "    }\n",
       "\n",
       "    .dataframe tbody tr th {\n",
       "        vertical-align: top;\n",
       "    }\n",
       "\n",
       "    .dataframe thead th {\n",
       "        text-align: right;\n",
       "    }\n",
       "</style>\n",
       "<table border=\"1\" class=\"dataframe\">\n",
       "  <thead>\n",
       "    <tr style=\"text-align: right;\">\n",
       "      <th></th>\n",
       "      <th>Unnamed: 0</th>\n",
       "      <th>position</th>\n",
       "      <th>item_offers_price</th>\n",
       "    </tr>\n",
       "  </thead>\n",
       "  <tbody>\n",
       "    <tr>\n",
       "      <th>count</th>\n",
       "      <td>89608.000000</td>\n",
       "      <td>89608.000000</td>\n",
       "      <td>8.960800e+04</td>\n",
       "    </tr>\n",
       "    <tr>\n",
       "      <th>mean</th>\n",
       "      <td>44804.500000</td>\n",
       "      <td>12.959613</td>\n",
       "      <td>7.638480e+04</td>\n",
       "    </tr>\n",
       "    <tr>\n",
       "      <th>std</th>\n",
       "      <td>25867.745798</td>\n",
       "      <td>7.214821</td>\n",
       "      <td>1.076482e+05</td>\n",
       "    </tr>\n",
       "    <tr>\n",
       "      <th>min</th>\n",
       "      <td>1.000000</td>\n",
       "      <td>1.000000</td>\n",
       "      <td>2.000000e+03</td>\n",
       "    </tr>\n",
       "    <tr>\n",
       "      <th>25%</th>\n",
       "      <td>22402.750000</td>\n",
       "      <td>7.000000</td>\n",
       "      <td>2.880000e+04</td>\n",
       "    </tr>\n",
       "    <tr>\n",
       "      <th>50%</th>\n",
       "      <td>44804.500000</td>\n",
       "      <td>13.000000</td>\n",
       "      <td>4.899000e+04</td>\n",
       "    </tr>\n",
       "    <tr>\n",
       "      <th>75%</th>\n",
       "      <td>67206.250000</td>\n",
       "      <td>19.000000</td>\n",
       "      <td>8.680000e+04</td>\n",
       "    </tr>\n",
       "    <tr>\n",
       "      <th>max</th>\n",
       "      <td>89608.000000</td>\n",
       "      <td>26.000000</td>\n",
       "      <td>2.699000e+06</td>\n",
       "    </tr>\n",
       "  </tbody>\n",
       "</table>\n",
       "</div>"
      ],
      "text/plain": [
       "         Unnamed: 0      position  item_offers_price\n",
       "count  89608.000000  89608.000000       8.960800e+04\n",
       "mean   44804.500000     12.959613       7.638480e+04\n",
       "std    25867.745798      7.214821       1.076482e+05\n",
       "min        1.000000      1.000000       2.000000e+03\n",
       "25%    22402.750000      7.000000       2.880000e+04\n",
       "50%    44804.500000     13.000000       4.899000e+04\n",
       "75%    67206.250000     19.000000       8.680000e+04\n",
       "max    89608.000000     26.000000       2.699000e+06"
      ]
     },
     "execution_count": 21,
     "metadata": {},
     "output_type": "execute_result"
    }
   ],
   "source": [
    "df.describe()"
   ]
  },
  {
   "cell_type": "code",
   "execution_count": 22,
   "id": "1633fa1f",
   "metadata": {},
   "outputs": [
    {
     "data": {
      "text/plain": [
       "Index(['Unnamed: 0', 'type', 'position', 'item_type', 'item_additionalType',\n",
       "       'item_brand_type', 'item_brand_name', 'item_model', 'item_bodyType',\n",
       "       'item_fuelType', 'item_seatingCapacity', 'item_color', 'item_name',\n",
       "       'item_mainEntityOfPage', 'item_url', 'item_image', 'item_description',\n",
       "       'item_offers_type', 'item_offers_price', 'item_offers_priceCurrency',\n",
       "       'item_offers_itemCondition', 'item_offers_seller_type',\n",
       "       'item_offers_seller_homeLocation_type',\n",
       "       'item_offers_seller_homeLocation_address_type',\n",
       "       'item_offers_seller_homeLocation_address_addressLocality',\n",
       "       'item_offers_seller_homeLocation_address_addressRegion',\n",
       "       'item_offers_seller_url'],\n",
       "      dtype='object')"
      ]
     },
     "execution_count": 22,
     "metadata": {},
     "output_type": "execute_result"
    }
   ],
   "source": [
    "df.columns"
   ]
  },
  {
   "cell_type": "code",
   "execution_count": 23,
   "id": "650d4fe3",
   "metadata": {},
   "outputs": [
    {
     "data": {
      "text/plain": [
       "15"
      ]
     },
     "execution_count": 23,
     "metadata": {},
     "output_type": "execute_result"
    }
   ],
   "source": [
    "df.item_offers_seller_homeLocation_address_addressRegion.nunique()"
   ]
  },
  {
   "cell_type": "code",
   "execution_count": 24,
   "id": "8269a47d",
   "metadata": {},
   "outputs": [],
   "source": [
    "def regex(string):\n",
    "    result = re.findall(\"\\d{4}(?=\\D)\", string)\n",
    "    \n",
    "    if result:\n",
    "        return  result\n",
    "    return np.nan\n",
    "\n",
    "new_col = df.item_name.apply(regex)\n",
    "\n",
    "df.insert(loc =13,column='year',value=new_col)"
   ]
  },
  {
   "cell_type": "code",
   "execution_count": 25,
   "id": "e0c56f57",
   "metadata": {},
   "outputs": [
    {
     "data": {
      "text/plain": [
       "89590    [2007]\n",
       "89591    [2011]\n",
       "89592    [2011]\n",
       "89593    [2007]\n",
       "89594    [2007]\n",
       "89595    [2011]\n",
       "89596    [2011]\n",
       "89597    [2011]\n",
       "89598    [2011]\n",
       "89599    [2011]\n",
       "89600    [2011]\n",
       "89601    [2011]\n",
       "89602    [2011]\n",
       "89603    [2011]\n",
       "89604    [2011]\n",
       "89605    [2011]\n",
       "89606    [2011]\n",
       "89607    [2014]\n",
       "Name: year, dtype: object"
      ]
     },
     "execution_count": 25,
     "metadata": {},
     "output_type": "execute_result"
    }
   ],
   "source": [
    "df.year[89590:89608]"
   ]
  },
  {
   "cell_type": "code",
   "execution_count": 26,
   "id": "ffc416f6",
   "metadata": {},
   "outputs": [],
   "source": [
    "df1 = df[['item_brand_name', 'item_model', 'item_bodyType','item_fuelType', 'item_seatingCapacity', 'item_color', 'item_name','year', 'item_offers_price','item_offers_seller_homeLocation_address_addressLocality', 'item_offers_seller_homeLocation_address_addressRegion']]"
   ]
  },
  {
   "cell_type": "code",
   "execution_count": 27,
   "id": "aad8df3c",
   "metadata": {},
   "outputs": [
    {
     "data": {
      "text/html": [
       "<div>\n",
       "<style scoped>\n",
       "    .dataframe tbody tr th:only-of-type {\n",
       "        vertical-align: middle;\n",
       "    }\n",
       "\n",
       "    .dataframe tbody tr th {\n",
       "        vertical-align: top;\n",
       "    }\n",
       "\n",
       "    .dataframe thead th {\n",
       "        text-align: right;\n",
       "    }\n",
       "</style>\n",
       "<table border=\"1\" class=\"dataframe\">\n",
       "  <thead>\n",
       "    <tr style=\"text-align: right;\">\n",
       "      <th></th>\n",
       "      <th>item_brand_name</th>\n",
       "      <th>item_model</th>\n",
       "      <th>item_bodyType</th>\n",
       "      <th>item_fuelType</th>\n",
       "      <th>item_seatingCapacity</th>\n",
       "      <th>item_color</th>\n",
       "      <th>item_name</th>\n",
       "      <th>year</th>\n",
       "      <th>item_offers_price</th>\n",
       "      <th>item_offers_seller_homeLocation_address_addressLocality</th>\n",
       "      <th>item_offers_seller_homeLocation_address_addressRegion</th>\n",
       "    </tr>\n",
       "  </thead>\n",
       "  <tbody>\n",
       "    <tr>\n",
       "      <th>0</th>\n",
       "      <td>BMW</td>\n",
       "      <td>323i</td>\n",
       "      <td>Sedan</td>\n",
       "      <td>Petrol - Unleaded (ULP)</td>\n",
       "      <td>5</td>\n",
       "      <td>Silver</td>\n",
       "      <td>2009 BMW 323i 2.5 Sedan (CASH ONLY)</td>\n",
       "      <td>[2009]</td>\n",
       "      <td>36700</td>\n",
       "      <td>Seri Kembangan</td>\n",
       "      <td>Selangor</td>\n",
       "    </tr>\n",
       "    <tr>\n",
       "      <th>1</th>\n",
       "      <td>BMW</td>\n",
       "      <td>X5</td>\n",
       "      <td>SUV</td>\n",
       "      <td>Hybrid</td>\n",
       "      <td>5</td>\n",
       "      <td>Blue</td>\n",
       "      <td>2020 BMW X5 3.0 xDrive45e M Sport</td>\n",
       "      <td>[2020]</td>\n",
       "      <td>385800</td>\n",
       "      <td>Sungai Besi</td>\n",
       "      <td>Kuala Lumpur</td>\n",
       "    </tr>\n",
       "    <tr>\n",
       "      <th>2</th>\n",
       "      <td>BMW</td>\n",
       "      <td>Z4</td>\n",
       "      <td>Convertible</td>\n",
       "      <td>Petrol - Unleaded (ULP)</td>\n",
       "      <td>2</td>\n",
       "      <td>White</td>\n",
       "      <td>2019 BMW Z4 2.0 sDrive30i M Sport Convertible ...</td>\n",
       "      <td>[2019, 2020]</td>\n",
       "      <td>340800</td>\n",
       "      <td>Chan Sow Lin</td>\n",
       "      <td>Kuala Lumpur</td>\n",
       "    </tr>\n",
       "    <tr>\n",
       "      <th>3</th>\n",
       "      <td>BMW</td>\n",
       "      <td>320d</td>\n",
       "      <td>Sedan</td>\n",
       "      <td>Diesel</td>\n",
       "      <td>5</td>\n",
       "      <td>Blue</td>\n",
       "      <td>2014 BMW 320d 2.0 M Sport Sedan</td>\n",
       "      <td>[2014]</td>\n",
       "      <td>122000</td>\n",
       "      <td>Seri Kembangan</td>\n",
       "      <td>Selangor</td>\n",
       "    </tr>\n",
       "    <tr>\n",
       "      <th>4</th>\n",
       "      <td>BMW</td>\n",
       "      <td>X3</td>\n",
       "      <td>SUV</td>\n",
       "      <td>Petrol - Unleaded (ULP)</td>\n",
       "      <td>5</td>\n",
       "      <td>Blue</td>\n",
       "      <td>2021 BMW X3</td>\n",
       "      <td>[2021]</td>\n",
       "      <td>290800</td>\n",
       "      <td>Kuantan</td>\n",
       "      <td>Pahang</td>\n",
       "    </tr>\n",
       "  </tbody>\n",
       "</table>\n",
       "</div>"
      ],
      "text/plain": [
       "  item_brand_name item_model item_bodyType            item_fuelType  \\\n",
       "0             BMW       323i         Sedan  Petrol - Unleaded (ULP)   \n",
       "1             BMW         X5           SUV                   Hybrid   \n",
       "2             BMW         Z4   Convertible  Petrol - Unleaded (ULP)   \n",
       "3             BMW       320d         Sedan                   Diesel   \n",
       "4             BMW         X3           SUV  Petrol - Unleaded (ULP)   \n",
       "\n",
       "  item_seatingCapacity item_color  \\\n",
       "0                    5     Silver   \n",
       "1                    5       Blue   \n",
       "2                    2      White   \n",
       "3                    5       Blue   \n",
       "4                    5       Blue   \n",
       "\n",
       "                                           item_name          year  \\\n",
       "0                2009 BMW 323i 2.5 Sedan (CASH ONLY)        [2009]   \n",
       "1                  2020 BMW X5 3.0 xDrive45e M Sport        [2020]   \n",
       "2  2019 BMW Z4 2.0 sDrive30i M Sport Convertible ...  [2019, 2020]   \n",
       "3                    2014 BMW 320d 2.0 M Sport Sedan        [2014]   \n",
       "4                                      2021 BMW X3          [2021]   \n",
       "\n",
       "   item_offers_price item_offers_seller_homeLocation_address_addressLocality  \\\n",
       "0              36700                                     Seri Kembangan        \n",
       "1             385800                                        Sungai Besi        \n",
       "2             340800                                       Chan Sow Lin        \n",
       "3             122000                                     Seri Kembangan        \n",
       "4             290800                                            Kuantan        \n",
       "\n",
       "  item_offers_seller_homeLocation_address_addressRegion  \n",
       "0                                           Selangor     \n",
       "1                                       Kuala Lumpur     \n",
       "2                                       Kuala Lumpur     \n",
       "3                                           Selangor     \n",
       "4                                             Pahang     "
      ]
     },
     "execution_count": 27,
     "metadata": {},
     "output_type": "execute_result"
    }
   ],
   "source": [
    "df1.head()"
   ]
  },
  {
   "cell_type": "code",
   "execution_count": 28,
   "id": "d6c16b55",
   "metadata": {},
   "outputs": [
    {
     "name": "stderr",
     "output_type": "stream",
     "text": [
      "C:\\Users\\ws\\AppData\\Local\\Temp\\ipykernel_13564\\821660125.py:1: SettingWithCopyWarning: \n",
      "A value is trying to be set on a copy of a slice from a DataFrame.\n",
      "Try using .loc[row_indexer,col_indexer] = value instead\n",
      "\n",
      "See the caveats in the documentation: https://pandas.pydata.org/pandas-docs/stable/user_guide/indexing.html#returning-a-view-versus-a-copy\n",
      "  df1['year'] = df1['year'].str[0]\n"
     ]
    },
    {
     "data": {
      "text/plain": [
       "0        2009\n",
       "1        2020\n",
       "2        2019\n",
       "3        2014\n",
       "4        2021\n",
       "         ... \n",
       "89603    2011\n",
       "89604    2011\n",
       "89605    2011\n",
       "89606    2011\n",
       "89607    2014\n",
       "Name: year, Length: 89608, dtype: object"
      ]
     },
     "execution_count": 28,
     "metadata": {},
     "output_type": "execute_result"
    }
   ],
   "source": [
    "df1['year'] = df1['year'].str[0]\n",
    "df1['year']"
   ]
  },
  {
   "cell_type": "code",
   "execution_count": 29,
   "id": "974a5a4b",
   "metadata": {},
   "outputs": [
    {
     "name": "stderr",
     "output_type": "stream",
     "text": [
      "C:\\Users\\ws\\AppData\\Local\\Temp\\ipykernel_13564\\544398156.py:1: SettingWithCopyWarning: \n",
      "A value is trying to be set on a copy of a slice from a DataFrame\n",
      "\n",
      "See the caveats in the documentation: https://pandas.pydata.org/pandas-docs/stable/user_guide/indexing.html#returning-a-view-versus-a-copy\n",
      "  df1.rename(columns = {'item_offers_seller_homeLocation_address_addressLocality':'city', 'item_offers_seller_homeLocation_address_addressRegion':'region'}, inplace = True)\n"
     ]
    }
   ],
   "source": [
    "df1.rename(columns = {'item_offers_seller_homeLocation_address_addressLocality':'city', 'item_offers_seller_homeLocation_address_addressRegion':'region'}, inplace = True)"
   ]
  },
  {
   "cell_type": "code",
   "execution_count": 30,
   "id": "e2974556",
   "metadata": {
    "scrolled": true
   },
   "outputs": [
    {
     "data": {
      "text/html": [
       "<div>\n",
       "<style scoped>\n",
       "    .dataframe tbody tr th:only-of-type {\n",
       "        vertical-align: middle;\n",
       "    }\n",
       "\n",
       "    .dataframe tbody tr th {\n",
       "        vertical-align: top;\n",
       "    }\n",
       "\n",
       "    .dataframe thead th {\n",
       "        text-align: right;\n",
       "    }\n",
       "</style>\n",
       "<table border=\"1\" class=\"dataframe\">\n",
       "  <thead>\n",
       "    <tr style=\"text-align: right;\">\n",
       "      <th></th>\n",
       "      <th>item_brand_name</th>\n",
       "      <th>item_model</th>\n",
       "      <th>item_bodyType</th>\n",
       "      <th>item_fuelType</th>\n",
       "      <th>item_seatingCapacity</th>\n",
       "      <th>item_color</th>\n",
       "      <th>item_name</th>\n",
       "      <th>year</th>\n",
       "      <th>item_offers_price</th>\n",
       "      <th>city</th>\n",
       "      <th>region</th>\n",
       "    </tr>\n",
       "  </thead>\n",
       "  <tbody>\n",
       "    <tr>\n",
       "      <th>0</th>\n",
       "      <td>BMW</td>\n",
       "      <td>323i</td>\n",
       "      <td>Sedan</td>\n",
       "      <td>Petrol - Unleaded (ULP)</td>\n",
       "      <td>5</td>\n",
       "      <td>Silver</td>\n",
       "      <td>2009 BMW 323i 2.5 Sedan (CASH ONLY)</td>\n",
       "      <td>2009</td>\n",
       "      <td>36700</td>\n",
       "      <td>Seri Kembangan</td>\n",
       "      <td>Selangor</td>\n",
       "    </tr>\n",
       "    <tr>\n",
       "      <th>1</th>\n",
       "      <td>BMW</td>\n",
       "      <td>X5</td>\n",
       "      <td>SUV</td>\n",
       "      <td>Hybrid</td>\n",
       "      <td>5</td>\n",
       "      <td>Blue</td>\n",
       "      <td>2020 BMW X5 3.0 xDrive45e M Sport</td>\n",
       "      <td>2020</td>\n",
       "      <td>385800</td>\n",
       "      <td>Sungai Besi</td>\n",
       "      <td>Kuala Lumpur</td>\n",
       "    </tr>\n",
       "    <tr>\n",
       "      <th>2</th>\n",
       "      <td>BMW</td>\n",
       "      <td>Z4</td>\n",
       "      <td>Convertible</td>\n",
       "      <td>Petrol - Unleaded (ULP)</td>\n",
       "      <td>2</td>\n",
       "      <td>White</td>\n",
       "      <td>2019 BMW Z4 2.0 sDrive30i M Sport Convertible ...</td>\n",
       "      <td>2019</td>\n",
       "      <td>340800</td>\n",
       "      <td>Chan Sow Lin</td>\n",
       "      <td>Kuala Lumpur</td>\n",
       "    </tr>\n",
       "    <tr>\n",
       "      <th>3</th>\n",
       "      <td>BMW</td>\n",
       "      <td>320d</td>\n",
       "      <td>Sedan</td>\n",
       "      <td>Diesel</td>\n",
       "      <td>5</td>\n",
       "      <td>Blue</td>\n",
       "      <td>2014 BMW 320d 2.0 M Sport Sedan</td>\n",
       "      <td>2014</td>\n",
       "      <td>122000</td>\n",
       "      <td>Seri Kembangan</td>\n",
       "      <td>Selangor</td>\n",
       "    </tr>\n",
       "    <tr>\n",
       "      <th>4</th>\n",
       "      <td>BMW</td>\n",
       "      <td>X3</td>\n",
       "      <td>SUV</td>\n",
       "      <td>Petrol - Unleaded (ULP)</td>\n",
       "      <td>5</td>\n",
       "      <td>Blue</td>\n",
       "      <td>2021 BMW X3</td>\n",
       "      <td>2021</td>\n",
       "      <td>290800</td>\n",
       "      <td>Kuantan</td>\n",
       "      <td>Pahang</td>\n",
       "    </tr>\n",
       "  </tbody>\n",
       "</table>\n",
       "</div>"
      ],
      "text/plain": [
       "  item_brand_name item_model item_bodyType            item_fuelType  \\\n",
       "0             BMW       323i         Sedan  Petrol - Unleaded (ULP)   \n",
       "1             BMW         X5           SUV                   Hybrid   \n",
       "2             BMW         Z4   Convertible  Petrol - Unleaded (ULP)   \n",
       "3             BMW       320d         Sedan                   Diesel   \n",
       "4             BMW         X3           SUV  Petrol - Unleaded (ULP)   \n",
       "\n",
       "  item_seatingCapacity item_color  \\\n",
       "0                    5     Silver   \n",
       "1                    5       Blue   \n",
       "2                    2      White   \n",
       "3                    5       Blue   \n",
       "4                    5       Blue   \n",
       "\n",
       "                                           item_name  year  item_offers_price  \\\n",
       "0                2009 BMW 323i 2.5 Sedan (CASH ONLY)  2009              36700   \n",
       "1                  2020 BMW X5 3.0 xDrive45e M Sport  2020             385800   \n",
       "2  2019 BMW Z4 2.0 sDrive30i M Sport Convertible ...  2019             340800   \n",
       "3                    2014 BMW 320d 2.0 M Sport Sedan  2014             122000   \n",
       "4                                      2021 BMW X3    2021             290800   \n",
       "\n",
       "             city        region  \n",
       "0  Seri Kembangan      Selangor  \n",
       "1     Sungai Besi  Kuala Lumpur  \n",
       "2    Chan Sow Lin  Kuala Lumpur  \n",
       "3  Seri Kembangan      Selangor  \n",
       "4         Kuantan        Pahang  "
      ]
     },
     "execution_count": 30,
     "metadata": {},
     "output_type": "execute_result"
    }
   ],
   "source": [
    "df1.head()"
   ]
  },
  {
   "cell_type": "code",
   "execution_count": 31,
   "id": "fe427b47",
   "metadata": {},
   "outputs": [
    {
     "data": {
      "text/plain": [
       "9317"
      ]
     },
     "execution_count": 31,
     "metadata": {},
     "output_type": "execute_result"
    }
   ],
   "source": [
    "df1.duplicated().sum()"
   ]
  },
  {
   "cell_type": "code",
   "execution_count": 32,
   "id": "bb755a62",
   "metadata": {},
   "outputs": [
    {
     "data": {
      "text/html": [
       "<div>\n",
       "<style scoped>\n",
       "    .dataframe tbody tr th:only-of-type {\n",
       "        vertical-align: middle;\n",
       "    }\n",
       "\n",
       "    .dataframe tbody tr th {\n",
       "        vertical-align: top;\n",
       "    }\n",
       "\n",
       "    .dataframe thead th {\n",
       "        text-align: right;\n",
       "    }\n",
       "</style>\n",
       "<table border=\"1\" class=\"dataframe\">\n",
       "  <thead>\n",
       "    <tr style=\"text-align: right;\">\n",
       "      <th></th>\n",
       "      <th>item_brand_name</th>\n",
       "      <th>item_model</th>\n",
       "      <th>item_bodyType</th>\n",
       "      <th>item_fuelType</th>\n",
       "      <th>item_seatingCapacity</th>\n",
       "      <th>item_color</th>\n",
       "      <th>item_name</th>\n",
       "      <th>year</th>\n",
       "      <th>item_offers_price</th>\n",
       "      <th>city</th>\n",
       "      <th>region</th>\n",
       "    </tr>\n",
       "  </thead>\n",
       "  <tbody>\n",
       "    <tr>\n",
       "      <th>9</th>\n",
       "      <td>BMW</td>\n",
       "      <td>320i</td>\n",
       "      <td>Sedan</td>\n",
       "      <td>Petrol - Unleaded (ULP)</td>\n",
       "      <td>5</td>\n",
       "      <td>Orange</td>\n",
       "      <td>2020 BMW 320i</td>\n",
       "      <td>2020</td>\n",
       "      <td>228800</td>\n",
       "      <td>Shah Alam</td>\n",
       "      <td>Selangor</td>\n",
       "    </tr>\n",
       "    <tr>\n",
       "      <th>127</th>\n",
       "      <td>BMW</td>\n",
       "      <td>118i</td>\n",
       "      <td>Hatchback</td>\n",
       "      <td>Petrol - Unleaded (ULP)</td>\n",
       "      <td>5</td>\n",
       "      <td>Blue</td>\n",
       "      <td>2017 BMW 118i 1.5 (A) M Sport LCI Hatchback NE...</td>\n",
       "      <td>2017</td>\n",
       "      <td>119800</td>\n",
       "      <td>Klang</td>\n",
       "      <td>Selangor</td>\n",
       "    </tr>\n",
       "    <tr>\n",
       "      <th>128</th>\n",
       "      <td>BMW</td>\n",
       "      <td>530i</td>\n",
       "      <td>Sedan</td>\n",
       "      <td>Petrol - Unleaded (ULP)</td>\n",
       "      <td>5</td>\n",
       "      <td>Black</td>\n",
       "      <td>2019 BMW 530i 2.0 M Sport (A) TWINTURBO WARRAN...</td>\n",
       "      <td>2019</td>\n",
       "      <td>268800</td>\n",
       "      <td>Klang</td>\n",
       "      <td>Selangor</td>\n",
       "    </tr>\n",
       "    <tr>\n",
       "      <th>306</th>\n",
       "      <td>BMW</td>\n",
       "      <td>318i</td>\n",
       "      <td>Sedan</td>\n",
       "      <td>Petrol - Unleaded (ULP)</td>\n",
       "      <td>5</td>\n",
       "      <td>Silver</td>\n",
       "      <td>2004 BMW 318i 2.0 Lifestyle Sedan FREE TINTED</td>\n",
       "      <td>2004</td>\n",
       "      <td>16800</td>\n",
       "      <td>Johor Bahru</td>\n",
       "      <td>Johor</td>\n",
       "    </tr>\n",
       "    <tr>\n",
       "      <th>386</th>\n",
       "      <td>BMW</td>\n",
       "      <td>320d</td>\n",
       "      <td>Sedan</td>\n",
       "      <td>Diesel</td>\n",
       "      <td>5</td>\n",
       "      <td>Black</td>\n",
       "      <td>2012 BMW 320d 2.0 Sport Line Sedan</td>\n",
       "      <td>2012</td>\n",
       "      <td>78800</td>\n",
       "      <td>Jalan Kuching</td>\n",
       "      <td>Kuala Lumpur</td>\n",
       "    </tr>\n",
       "    <tr>\n",
       "      <th>...</th>\n",
       "      <td>...</td>\n",
       "      <td>...</td>\n",
       "      <td>...</td>\n",
       "      <td>...</td>\n",
       "      <td>...</td>\n",
       "      <td>...</td>\n",
       "      <td>...</td>\n",
       "      <td>...</td>\n",
       "      <td>...</td>\n",
       "      <td>...</td>\n",
       "      <td>...</td>\n",
       "    </tr>\n",
       "    <tr>\n",
       "      <th>89598</th>\n",
       "      <td>Ssangyong</td>\n",
       "      <td>Actyon</td>\n",
       "      <td>SUV</td>\n",
       "      <td>Diesel</td>\n",
       "      <td>5</td>\n",
       "      <td>Black</td>\n",
       "      <td>LOAN KEDAI 2011 Ssangyong Actyon 2.0 e-XDi 200...</td>\n",
       "      <td>2011</td>\n",
       "      <td>20800</td>\n",
       "      <td>Johor Bahru</td>\n",
       "      <td>Johor</td>\n",
       "    </tr>\n",
       "    <tr>\n",
       "      <th>89599</th>\n",
       "      <td>Ssangyong</td>\n",
       "      <td>Actyon</td>\n",
       "      <td>SUV</td>\n",
       "      <td>Diesel</td>\n",
       "      <td>5</td>\n",
       "      <td>Black</td>\n",
       "      <td>LOAN KEDAI 2011 Ssangyong Actyon 2.0 e-XDi 200...</td>\n",
       "      <td>2011</td>\n",
       "      <td>20800</td>\n",
       "      <td>Johor Bahru</td>\n",
       "      <td>Johor</td>\n",
       "    </tr>\n",
       "    <tr>\n",
       "      <th>89600</th>\n",
       "      <td>Ssangyong</td>\n",
       "      <td>Actyon</td>\n",
       "      <td>SUV</td>\n",
       "      <td>Diesel</td>\n",
       "      <td>5</td>\n",
       "      <td>Black</td>\n",
       "      <td>LOAN KEDAI 2011 Ssangyong Actyon 2.0 e-XDi 200...</td>\n",
       "      <td>2011</td>\n",
       "      <td>20800</td>\n",
       "      <td>Johor Bahru</td>\n",
       "      <td>Johor</td>\n",
       "    </tr>\n",
       "    <tr>\n",
       "      <th>89602</th>\n",
       "      <td>Ssangyong</td>\n",
       "      <td>Actyon</td>\n",
       "      <td>SUV</td>\n",
       "      <td>Diesel</td>\n",
       "      <td>5</td>\n",
       "      <td>Black</td>\n",
       "      <td>LOAN KEDAI 2011 Ssangyong Actyon 2.0 e-XDi 200...</td>\n",
       "      <td>2011</td>\n",
       "      <td>20800</td>\n",
       "      <td>Johor Bahru</td>\n",
       "      <td>Johor</td>\n",
       "    </tr>\n",
       "    <tr>\n",
       "      <th>89605</th>\n",
       "      <td>Ssangyong</td>\n",
       "      <td>Actyon</td>\n",
       "      <td>SUV</td>\n",
       "      <td>Diesel</td>\n",
       "      <td>5</td>\n",
       "      <td>Black</td>\n",
       "      <td>LOAN KEDAI AVAILABLE 2011 Ssangyong Actyon 2.0...</td>\n",
       "      <td>2011</td>\n",
       "      <td>18800</td>\n",
       "      <td>Johor Bahru</td>\n",
       "      <td>Johor</td>\n",
       "    </tr>\n",
       "  </tbody>\n",
       "</table>\n",
       "<p>9317 rows × 11 columns</p>\n",
       "</div>"
      ],
      "text/plain": [
       "      item_brand_name item_model item_bodyType            item_fuelType  \\\n",
       "9                 BMW       320i         Sedan  Petrol - Unleaded (ULP)   \n",
       "127               BMW       118i     Hatchback  Petrol - Unleaded (ULP)   \n",
       "128               BMW       530i         Sedan  Petrol - Unleaded (ULP)   \n",
       "306               BMW       318i         Sedan  Petrol - Unleaded (ULP)   \n",
       "386               BMW       320d         Sedan                   Diesel   \n",
       "...               ...        ...           ...                      ...   \n",
       "89598       Ssangyong     Actyon           SUV                   Diesel   \n",
       "89599       Ssangyong     Actyon           SUV                   Diesel   \n",
       "89600       Ssangyong     Actyon           SUV                   Diesel   \n",
       "89602       Ssangyong     Actyon           SUV                   Diesel   \n",
       "89605       Ssangyong     Actyon           SUV                   Diesel   \n",
       "\n",
       "      item_seatingCapacity item_color  \\\n",
       "9                        5     Orange   \n",
       "127                      5       Blue   \n",
       "128                      5      Black   \n",
       "306                      5     Silver   \n",
       "386                      5      Black   \n",
       "...                    ...        ...   \n",
       "89598                    5      Black   \n",
       "89599                    5      Black   \n",
       "89600                    5      Black   \n",
       "89602                    5      Black   \n",
       "89605                    5      Black   \n",
       "\n",
       "                                               item_name  year  \\\n",
       "9                                        2020 BMW 320i    2020   \n",
       "127    2017 BMW 118i 1.5 (A) M Sport LCI Hatchback NE...  2017   \n",
       "128    2019 BMW 530i 2.0 M Sport (A) TWINTURBO WARRAN...  2019   \n",
       "306        2004 BMW 318i 2.0 Lifestyle Sedan FREE TINTED  2004   \n",
       "386                   2012 BMW 320d 2.0 Sport Line Sedan  2012   \n",
       "...                                                  ...   ...   \n",
       "89598  LOAN KEDAI 2011 Ssangyong Actyon 2.0 e-XDi 200...  2011   \n",
       "89599  LOAN KEDAI 2011 Ssangyong Actyon 2.0 e-XDi 200...  2011   \n",
       "89600  LOAN KEDAI 2011 Ssangyong Actyon 2.0 e-XDi 200...  2011   \n",
       "89602  LOAN KEDAI 2011 Ssangyong Actyon 2.0 e-XDi 200...  2011   \n",
       "89605  LOAN KEDAI AVAILABLE 2011 Ssangyong Actyon 2.0...  2011   \n",
       "\n",
       "       item_offers_price           city        region  \n",
       "9                 228800      Shah Alam      Selangor  \n",
       "127               119800          Klang      Selangor  \n",
       "128               268800          Klang      Selangor  \n",
       "306                16800    Johor Bahru         Johor  \n",
       "386                78800  Jalan Kuching  Kuala Lumpur  \n",
       "...                  ...            ...           ...  \n",
       "89598              20800    Johor Bahru         Johor  \n",
       "89599              20800    Johor Bahru         Johor  \n",
       "89600              20800    Johor Bahru         Johor  \n",
       "89602              20800    Johor Bahru         Johor  \n",
       "89605              18800    Johor Bahru         Johor  \n",
       "\n",
       "[9317 rows x 11 columns]"
      ]
     },
     "execution_count": 32,
     "metadata": {},
     "output_type": "execute_result"
    }
   ],
   "source": [
    "df1[df1.duplicated()]"
   ]
  },
  {
   "cell_type": "code",
   "execution_count": 33,
   "id": "60165e14",
   "metadata": {},
   "outputs": [],
   "source": [
    "df1 = df1.drop_duplicates()\n",
    "df1.reset_index(drop=True, inplace=True)"
   ]
  },
  {
   "cell_type": "code",
   "execution_count": 35,
   "id": "a2af8e2a",
   "metadata": {},
   "outputs": [
    {
     "data": {
      "text/plain": [
       "6"
      ]
     },
     "execution_count": 35,
     "metadata": {},
     "output_type": "execute_result"
    }
   ],
   "source": [
    "df1.columns.get_loc(\"item_name\")"
   ]
  },
  {
   "cell_type": "code",
   "execution_count": 36,
   "id": "1f7420a3",
   "metadata": {},
   "outputs": [],
   "source": [
    "def regex(string):\n",
    "    result = re.findall(\"(\\d\\.\\d{1}(?=\\D))\", string)\n",
    "    \n",
    "    if result:\n",
    "        return  result\n",
    "    return np.nan\n",
    "\n",
    "new_col = df1.item_name.apply(regex)\n",
    "\n",
    "df1.insert(loc=7,column='cc',value=new_col)"
   ]
  },
  {
   "cell_type": "code",
   "execution_count": 41,
   "id": "b6725de4",
   "metadata": {},
   "outputs": [],
   "source": [
    "df1['cc'] = df1['cc'].str[0]"
   ]
  },
  {
   "cell_type": "code",
   "execution_count": 44,
   "id": "65b399a3",
   "metadata": {
    "scrolled": true
   },
   "outputs": [
    {
     "data": {
      "text/plain": [
       "1665"
      ]
     },
     "execution_count": 44,
     "metadata": {},
     "output_type": "execute_result"
    }
   ],
   "source": [
    "df1.cc.isnull().sum()"
   ]
  },
  {
   "cell_type": "code",
   "execution_count": 46,
   "id": "64273c9a",
   "metadata": {},
   "outputs": [
    {
     "data": {
      "text/plain": [
       "item_brand_name         object\n",
       "item_model              object\n",
       "item_bodyType           object\n",
       "item_fuelType           object\n",
       "item_seatingCapacity    object\n",
       "item_color              object\n",
       "item_name               object\n",
       "cc                      object\n",
       "year                    object\n",
       "item_offers_price        int64\n",
       "city                    object\n",
       "region                  object\n",
       "dtype: object"
      ]
     },
     "execution_count": 46,
     "metadata": {},
     "output_type": "execute_result"
    }
   ],
   "source": [
    "df1.dtypes"
   ]
  },
  {
   "cell_type": "code",
   "execution_count": 50,
   "id": "9d60e9bb",
   "metadata": {},
   "outputs": [],
   "source": [
    "df1['cc']=df1['cc'].fillna(0)"
   ]
  },
  {
   "cell_type": "code",
   "execution_count": 51,
   "id": "cf77fd80",
   "metadata": {
    "scrolled": true
   },
   "outputs": [
    {
     "data": {
      "text/plain": [
       "array(['2.5', '3.0', '2.0', 0, '1.6', '1.5', '2.2', '4.4', '1.8', '2.9',\n",
       "       '2.4', '2.3', '1.9', '1.2', '3.6', '1.4', '0.0', '3.2', '7.5',\n",
       "       '4.2', '1.3', '1.0', '2.6', '3.9', '2.8', '2.7', '3.8', '3.5',\n",
       "       '1.1', '3.7', '4.6', '5.7', '3.4', '4.3', '4.5', '3.3', '4.7',\n",
       "       '5.0', '5.2', '6.5', '4.0', '3.1', '4.8', '6.0', '6.3', '0.8',\n",
       "       '6.8', '0.7', '9.0', '2.1', '1.7', '5.5', '5.4', '6.2', '0.6',\n",
       "       '5.9', '0.5', '4.9', '6.6', '6.7'], dtype=object)"
      ]
     },
     "execution_count": 51,
     "metadata": {},
     "output_type": "execute_result"
    }
   ],
   "source": [
    "df1['cc'].unique()"
   ]
  },
  {
   "cell_type": "code",
   "execution_count": 54,
   "id": "d3375be3",
   "metadata": {},
   "outputs": [],
   "source": [
    "df1['year']=df1['year'].fillna(0)"
   ]
  },
  {
   "cell_type": "code",
   "execution_count": 55,
   "id": "3183b2e4",
   "metadata": {},
   "outputs": [],
   "source": [
    "df1.year = df1.year.astype(int)"
   ]
  },
  {
   "cell_type": "code",
   "execution_count": 56,
   "id": "f3cbaa48",
   "metadata": {},
   "outputs": [],
   "source": [
    "df1['year'].where(df1['year'] > 1940, 0, inplace=True)"
   ]
  },
  {
   "cell_type": "code",
   "execution_count": 57,
   "id": "15d61917",
   "metadata": {},
   "outputs": [],
   "source": [
    "df1['year'].where(df1['year'] < 2023, 0, inplace=True)"
   ]
  },
  {
   "cell_type": "code",
   "execution_count": 59,
   "id": "3e782036",
   "metadata": {},
   "outputs": [
    {
     "data": {
      "text/plain": [
       "array([2009, 2020, 2019, 2014, 2021, 2013, 2018, 2012, 2016, 2017, 2010,\n",
       "       2015,    0, 1994, 2007, 2011, 2005, 2022, 2004, 2002, 2006, 1997,\n",
       "       2003, 2008, 2001, 1999, 1991, 1996, 2000, 1988, 1971, 1968, 1990,\n",
       "       1985, 1995, 1993, 1984, 1998, 1972, 1992, 1989, 1983, 1980, 1987,\n",
       "       1982, 1966, 1977, 1979, 1981, 1986, 1952, 1976])"
      ]
     },
     "execution_count": 59,
     "metadata": {},
     "output_type": "execute_result"
    }
   ],
   "source": [
    "df1['year'].unique()"
   ]
  },
  {
   "cell_type": "code",
   "execution_count": 61,
   "id": "aa6e5bb5",
   "metadata": {
    "scrolled": true
   },
   "outputs": [],
   "source": [
    "df1.to_csv('output_cleaned_29-6-2022.csv')"
   ]
  },
  {
   "cell_type": "code",
   "execution_count": 60,
   "id": "762d3e9c",
   "metadata": {},
   "outputs": [
    {
     "data": {
      "text/html": [
       "<div>\n",
       "<style scoped>\n",
       "    .dataframe tbody tr th:only-of-type {\n",
       "        vertical-align: middle;\n",
       "    }\n",
       "\n",
       "    .dataframe tbody tr th {\n",
       "        vertical-align: top;\n",
       "    }\n",
       "\n",
       "    .dataframe thead th {\n",
       "        text-align: right;\n",
       "    }\n",
       "</style>\n",
       "<table border=\"1\" class=\"dataframe\">\n",
       "  <thead>\n",
       "    <tr style=\"text-align: right;\">\n",
       "      <th></th>\n",
       "      <th>item_brand_name</th>\n",
       "      <th>item_model</th>\n",
       "      <th>item_bodyType</th>\n",
       "      <th>item_fuelType</th>\n",
       "      <th>item_seatingCapacity</th>\n",
       "      <th>item_color</th>\n",
       "      <th>item_name</th>\n",
       "      <th>cc</th>\n",
       "      <th>year</th>\n",
       "      <th>item_offers_price</th>\n",
       "      <th>city</th>\n",
       "      <th>region</th>\n",
       "    </tr>\n",
       "  </thead>\n",
       "  <tbody>\n",
       "    <tr>\n",
       "      <th>0</th>\n",
       "      <td>BMW</td>\n",
       "      <td>323i</td>\n",
       "      <td>Sedan</td>\n",
       "      <td>Petrol - Unleaded (ULP)</td>\n",
       "      <td>5</td>\n",
       "      <td>Silver</td>\n",
       "      <td>2009 BMW 323i 2.5 Sedan (CASH ONLY)</td>\n",
       "      <td>2.5</td>\n",
       "      <td>2009</td>\n",
       "      <td>36700</td>\n",
       "      <td>Seri Kembangan</td>\n",
       "      <td>Selangor</td>\n",
       "    </tr>\n",
       "    <tr>\n",
       "      <th>1</th>\n",
       "      <td>BMW</td>\n",
       "      <td>X5</td>\n",
       "      <td>SUV</td>\n",
       "      <td>Hybrid</td>\n",
       "      <td>5</td>\n",
       "      <td>Blue</td>\n",
       "      <td>2020 BMW X5 3.0 xDrive45e M Sport</td>\n",
       "      <td>3.0</td>\n",
       "      <td>2020</td>\n",
       "      <td>385800</td>\n",
       "      <td>Sungai Besi</td>\n",
       "      <td>Kuala Lumpur</td>\n",
       "    </tr>\n",
       "    <tr>\n",
       "      <th>2</th>\n",
       "      <td>BMW</td>\n",
       "      <td>Z4</td>\n",
       "      <td>Convertible</td>\n",
       "      <td>Petrol - Unleaded (ULP)</td>\n",
       "      <td>2</td>\n",
       "      <td>White</td>\n",
       "      <td>2019 BMW Z4 2.0 sDrive30i M Sport Convertible ...</td>\n",
       "      <td>2.0</td>\n",
       "      <td>2019</td>\n",
       "      <td>340800</td>\n",
       "      <td>Chan Sow Lin</td>\n",
       "      <td>Kuala Lumpur</td>\n",
       "    </tr>\n",
       "    <tr>\n",
       "      <th>3</th>\n",
       "      <td>BMW</td>\n",
       "      <td>320d</td>\n",
       "      <td>Sedan</td>\n",
       "      <td>Diesel</td>\n",
       "      <td>5</td>\n",
       "      <td>Blue</td>\n",
       "      <td>2014 BMW 320d 2.0 M Sport Sedan</td>\n",
       "      <td>2.0</td>\n",
       "      <td>2014</td>\n",
       "      <td>122000</td>\n",
       "      <td>Seri Kembangan</td>\n",
       "      <td>Selangor</td>\n",
       "    </tr>\n",
       "    <tr>\n",
       "      <th>4</th>\n",
       "      <td>BMW</td>\n",
       "      <td>X3</td>\n",
       "      <td>SUV</td>\n",
       "      <td>Petrol - Unleaded (ULP)</td>\n",
       "      <td>5</td>\n",
       "      <td>Blue</td>\n",
       "      <td>2021 BMW X3</td>\n",
       "      <td>0</td>\n",
       "      <td>2021</td>\n",
       "      <td>290800</td>\n",
       "      <td>Kuantan</td>\n",
       "      <td>Pahang</td>\n",
       "    </tr>\n",
       "  </tbody>\n",
       "</table>\n",
       "</div>"
      ],
      "text/plain": [
       "  item_brand_name item_model item_bodyType            item_fuelType  \\\n",
       "0             BMW       323i         Sedan  Petrol - Unleaded (ULP)   \n",
       "1             BMW         X5           SUV                   Hybrid   \n",
       "2             BMW         Z4   Convertible  Petrol - Unleaded (ULP)   \n",
       "3             BMW       320d         Sedan                   Diesel   \n",
       "4             BMW         X3           SUV  Petrol - Unleaded (ULP)   \n",
       "\n",
       "  item_seatingCapacity item_color  \\\n",
       "0                    5     Silver   \n",
       "1                    5       Blue   \n",
       "2                    2      White   \n",
       "3                    5       Blue   \n",
       "4                    5       Blue   \n",
       "\n",
       "                                           item_name   cc  year  \\\n",
       "0                2009 BMW 323i 2.5 Sedan (CASH ONLY)  2.5  2009   \n",
       "1                  2020 BMW X5 3.0 xDrive45e M Sport  3.0  2020   \n",
       "2  2019 BMW Z4 2.0 sDrive30i M Sport Convertible ...  2.0  2019   \n",
       "3                    2014 BMW 320d 2.0 M Sport Sedan  2.0  2014   \n",
       "4                                      2021 BMW X3      0  2021   \n",
       "\n",
       "   item_offers_price            city        region  \n",
       "0              36700  Seri Kembangan      Selangor  \n",
       "1             385800     Sungai Besi  Kuala Lumpur  \n",
       "2             340800    Chan Sow Lin  Kuala Lumpur  \n",
       "3             122000  Seri Kembangan      Selangor  \n",
       "4             290800         Kuantan        Pahang  "
      ]
     },
     "execution_count": 60,
     "metadata": {},
     "output_type": "execute_result"
    }
   ],
   "source": [
    "df1.head()"
   ]
  },
  {
   "cell_type": "code",
   "execution_count": 67,
   "id": "24204e37",
   "metadata": {},
   "outputs": [
    {
     "data": {
      "text/html": [
       "<div>\n",
       "<style scoped>\n",
       "    .dataframe tbody tr th:only-of-type {\n",
       "        vertical-align: middle;\n",
       "    }\n",
       "\n",
       "    .dataframe tbody tr th {\n",
       "        vertical-align: top;\n",
       "    }\n",
       "\n",
       "    .dataframe thead th {\n",
       "        text-align: right;\n",
       "    }\n",
       "</style>\n",
       "<table border=\"1\" class=\"dataframe\">\n",
       "  <thead>\n",
       "    <tr style=\"text-align: right;\">\n",
       "      <th></th>\n",
       "      <th>item_brand_name</th>\n",
       "      <th>item_model</th>\n",
       "    </tr>\n",
       "  </thead>\n",
       "  <tbody>\n",
       "    <tr>\n",
       "      <th>0</th>\n",
       "      <td>Audi</td>\n",
       "      <td>1442</td>\n",
       "    </tr>\n",
       "    <tr>\n",
       "      <th>1</th>\n",
       "      <td>BMW</td>\n",
       "      <td>401</td>\n",
       "    </tr>\n",
       "    <tr>\n",
       "      <th>2</th>\n",
       "      <td>Chevrolet</td>\n",
       "      <td>526</td>\n",
       "    </tr>\n",
       "    <tr>\n",
       "      <th>3</th>\n",
       "      <td>Ferrari</td>\n",
       "      <td>116</td>\n",
       "    </tr>\n",
       "    <tr>\n",
       "      <th>4</th>\n",
       "      <td>Ford</td>\n",
       "      <td>2025</td>\n",
       "    </tr>\n",
       "    <tr>\n",
       "      <th>5</th>\n",
       "      <td>Honda</td>\n",
       "      <td>14031</td>\n",
       "    </tr>\n",
       "    <tr>\n",
       "      <th>6</th>\n",
       "      <td>Hyundai</td>\n",
       "      <td>1738</td>\n",
       "    </tr>\n",
       "    <tr>\n",
       "      <th>7</th>\n",
       "      <td>Isuzu</td>\n",
       "      <td>515</td>\n",
       "    </tr>\n",
       "    <tr>\n",
       "      <th>8</th>\n",
       "      <td>Kia</td>\n",
       "      <td>1963</td>\n",
       "    </tr>\n",
       "    <tr>\n",
       "      <th>9</th>\n",
       "      <td>Lamborghini</td>\n",
       "      <td>103</td>\n",
       "    </tr>\n",
       "    <tr>\n",
       "      <th>10</th>\n",
       "      <td>Land Rover</td>\n",
       "      <td>590</td>\n",
       "    </tr>\n",
       "    <tr>\n",
       "      <th>11</th>\n",
       "      <td>Lexus</td>\n",
       "      <td>568</td>\n",
       "    </tr>\n",
       "    <tr>\n",
       "      <th>12</th>\n",
       "      <td>MINI</td>\n",
       "      <td>819</td>\n",
       "    </tr>\n",
       "    <tr>\n",
       "      <th>13</th>\n",
       "      <td>Mazda</td>\n",
       "      <td>2984</td>\n",
       "    </tr>\n",
       "    <tr>\n",
       "      <th>14</th>\n",
       "      <td>Mercedes-Benz</td>\n",
       "      <td>7448</td>\n",
       "    </tr>\n",
       "    <tr>\n",
       "      <th>15</th>\n",
       "      <td>Mitsubishi</td>\n",
       "      <td>1986</td>\n",
       "    </tr>\n",
       "    <tr>\n",
       "      <th>16</th>\n",
       "      <td>Nissan</td>\n",
       "      <td>6062</td>\n",
       "    </tr>\n",
       "    <tr>\n",
       "      <th>17</th>\n",
       "      <td>Perodua</td>\n",
       "      <td>8329</td>\n",
       "    </tr>\n",
       "    <tr>\n",
       "      <th>18</th>\n",
       "      <td>Peugeot</td>\n",
       "      <td>854</td>\n",
       "    </tr>\n",
       "    <tr>\n",
       "      <th>19</th>\n",
       "      <td>Porsche</td>\n",
       "      <td>665</td>\n",
       "    </tr>\n",
       "    <tr>\n",
       "      <th>20</th>\n",
       "      <td>Proton</td>\n",
       "      <td>8061</td>\n",
       "    </tr>\n",
       "    <tr>\n",
       "      <th>21</th>\n",
       "      <td>Subaru</td>\n",
       "      <td>567</td>\n",
       "    </tr>\n",
       "    <tr>\n",
       "      <th>22</th>\n",
       "      <td>Suzuki</td>\n",
       "      <td>856</td>\n",
       "    </tr>\n",
       "    <tr>\n",
       "      <th>23</th>\n",
       "      <td>Toyota</td>\n",
       "      <td>14302</td>\n",
       "    </tr>\n",
       "    <tr>\n",
       "      <th>24</th>\n",
       "      <td>Volkswagen</td>\n",
       "      <td>2862</td>\n",
       "    </tr>\n",
       "    <tr>\n",
       "      <th>25</th>\n",
       "      <td>Volvo</td>\n",
       "      <td>478</td>\n",
       "    </tr>\n",
       "  </tbody>\n",
       "</table>\n",
       "</div>"
      ],
      "text/plain": [
       "   item_brand_name  item_model\n",
       "0             Audi        1442\n",
       "1              BMW         401\n",
       "2        Chevrolet         526\n",
       "3          Ferrari         116\n",
       "4             Ford        2025\n",
       "5            Honda       14031\n",
       "6          Hyundai        1738\n",
       "7            Isuzu         515\n",
       "8              Kia        1963\n",
       "9      Lamborghini         103\n",
       "10      Land Rover         590\n",
       "11           Lexus         568\n",
       "12            MINI         819\n",
       "13           Mazda        2984\n",
       "14   Mercedes-Benz        7448\n",
       "15      Mitsubishi        1986\n",
       "16          Nissan        6062\n",
       "17         Perodua        8329\n",
       "18         Peugeot         854\n",
       "19         Porsche         665\n",
       "20          Proton        8061\n",
       "21          Subaru         567\n",
       "22          Suzuki         856\n",
       "23          Toyota       14302\n",
       "24      Volkswagen        2862\n",
       "25           Volvo         478"
      ]
     },
     "execution_count": 67,
     "metadata": {},
     "output_type": "execute_result"
    }
   ],
   "source": [
    "bycategory = df1['item_model'].groupby(df['item_brand_name']).count().reset_index()\n",
    "bycategory"
   ]
  },
  {
   "cell_type": "code",
   "execution_count": 71,
   "id": "3508a746",
   "metadata": {},
   "outputs": [
    {
     "data": {
      "text/html": [
       "<div>\n",
       "<style scoped>\n",
       "    .dataframe tbody tr th:only-of-type {\n",
       "        vertical-align: middle;\n",
       "    }\n",
       "\n",
       "    .dataframe tbody tr th {\n",
       "        vertical-align: top;\n",
       "    }\n",
       "\n",
       "    .dataframe thead th {\n",
       "        text-align: right;\n",
       "    }\n",
       "</style>\n",
       "<table border=\"1\" class=\"dataframe\">\n",
       "  <thead>\n",
       "    <tr style=\"text-align: right;\">\n",
       "      <th></th>\n",
       "      <th>item_brand_name</th>\n",
       "      <th>item_model</th>\n",
       "      <th>item_bodyType</th>\n",
       "      <th>item_fuelType</th>\n",
       "      <th>item_seatingCapacity</th>\n",
       "      <th>item_color</th>\n",
       "      <th>item_name</th>\n",
       "      <th>cc</th>\n",
       "      <th>year</th>\n",
       "      <th>item_offers_price</th>\n",
       "      <th>city</th>\n",
       "      <th>region</th>\n",
       "    </tr>\n",
       "  </thead>\n",
       "  <tbody>\n",
       "    <tr>\n",
       "      <th>19166</th>\n",
       "      <td>Toyota</td>\n",
       "      <td>Corolla Altis</td>\n",
       "      <td>Sedan</td>\n",
       "      <td>Petrol - Unleaded (ULP)</td>\n",
       "      <td>5</td>\n",
       "      <td>Grey</td>\n",
       "      <td>2016 Toyota Corolla Altis 1.8 G Sedan No Proce...</td>\n",
       "      <td>1.8</td>\n",
       "      <td>2016</td>\n",
       "      <td>75900</td>\n",
       "      <td>Puchong</td>\n",
       "      <td>Selangor</td>\n",
       "    </tr>\n",
       "    <tr>\n",
       "      <th>19167</th>\n",
       "      <td>Toyota</td>\n",
       "      <td>Corolla Altis</td>\n",
       "      <td>Sedan</td>\n",
       "      <td>Petrol - Unleaded (ULP)</td>\n",
       "      <td>5</td>\n",
       "      <td>White</td>\n",
       "      <td>2018 Toyota Corolla Altis 1.8 G Sedan</td>\n",
       "      <td>1.8</td>\n",
       "      <td>2018</td>\n",
       "      <td>87800</td>\n",
       "      <td>Puchong</td>\n",
       "      <td>Selangor</td>\n",
       "    </tr>\n",
       "    <tr>\n",
       "      <th>19193</th>\n",
       "      <td>Toyota</td>\n",
       "      <td>Estima</td>\n",
       "      <td>MPV</td>\n",
       "      <td>Petrol - Unleaded (ULP)</td>\n",
       "      <td>7</td>\n",
       "      <td>Grey</td>\n",
       "      <td>2004 Toyota Estima 2.4 Aeras MPV</td>\n",
       "      <td>2.4</td>\n",
       "      <td>2004</td>\n",
       "      <td>43800</td>\n",
       "      <td>Johor Bahru</td>\n",
       "      <td>Johor</td>\n",
       "    </tr>\n",
       "    <tr>\n",
       "      <th>19194</th>\n",
       "      <td>Toyota</td>\n",
       "      <td>Innova</td>\n",
       "      <td>MPV</td>\n",
       "      <td>Petrol - Unleaded (ULP)</td>\n",
       "      <td>8</td>\n",
       "      <td>Gold</td>\n",
       "      <td>2005 Toyota Innova 2.0 G MPV</td>\n",
       "      <td>2.0</td>\n",
       "      <td>2005</td>\n",
       "      <td>28800</td>\n",
       "      <td>Johor Bahru</td>\n",
       "      <td>Johor</td>\n",
       "    </tr>\n",
       "    <tr>\n",
       "      <th>19195</th>\n",
       "      <td>Toyota</td>\n",
       "      <td>Hilux</td>\n",
       "      <td>Pickup Truck</td>\n",
       "      <td>Diesel</td>\n",
       "      <td>5</td>\n",
       "      <td>Black</td>\n",
       "      <td>2006 Offer! Toyota Hilux Vigo 2.5 G Pickup Tru...</td>\n",
       "      <td>2.5</td>\n",
       "      <td>2006</td>\n",
       "      <td>48000</td>\n",
       "      <td>Kota Kinabalu</td>\n",
       "      <td>Sabah</td>\n",
       "    </tr>\n",
       "  </tbody>\n",
       "</table>\n",
       "</div>"
      ],
      "text/plain": [
       "      item_brand_name     item_model item_bodyType            item_fuelType  \\\n",
       "19166          Toyota  Corolla Altis         Sedan  Petrol - Unleaded (ULP)   \n",
       "19167          Toyota  Corolla Altis         Sedan  Petrol - Unleaded (ULP)   \n",
       "19193          Toyota         Estima           MPV  Petrol - Unleaded (ULP)   \n",
       "19194          Toyota         Innova           MPV  Petrol - Unleaded (ULP)   \n",
       "19195          Toyota          Hilux  Pickup Truck                   Diesel   \n",
       "\n",
       "      item_seatingCapacity item_color  \\\n",
       "19166                    5       Grey   \n",
       "19167                    5      White   \n",
       "19193                    7       Grey   \n",
       "19194                    8       Gold   \n",
       "19195                    5      Black   \n",
       "\n",
       "                                               item_name   cc  year  \\\n",
       "19166  2016 Toyota Corolla Altis 1.8 G Sedan No Proce...  1.8  2016   \n",
       "19167              2018 Toyota Corolla Altis 1.8 G Sedan  1.8  2018   \n",
       "19193                   2004 Toyota Estima 2.4 Aeras MPV  2.4  2004   \n",
       "19194                       2005 Toyota Innova 2.0 G MPV  2.0  2005   \n",
       "19195  2006 Offer! Toyota Hilux Vigo 2.5 G Pickup Tru...  2.5  2006   \n",
       "\n",
       "       item_offers_price           city    region  \n",
       "19166              75900        Puchong  Selangor  \n",
       "19167              87800        Puchong  Selangor  \n",
       "19193              43800    Johor Bahru     Johor  \n",
       "19194              28800    Johor Bahru     Johor  \n",
       "19195              48000  Kota Kinabalu     Sabah  "
      ]
     },
     "execution_count": 71,
     "metadata": {},
     "output_type": "execute_result"
    }
   ],
   "source": [
    "df2 = df1[df1['item_brand_name']== 'Toyota']\n",
    "df2.head()"
   ]
  },
  {
   "cell_type": "code",
   "execution_count": 72,
   "id": "b75fa895",
   "metadata": {},
   "outputs": [
    {
     "data": {
      "text/plain": [
       "<AxesSubplot:ylabel='Frequency'>"
      ]
     },
     "execution_count": 72,
     "metadata": {},
     "output_type": "execute_result"
    },
    {
     "data": {
      "image/png": "[encoded data removed]",
      "text/plain": [
       "<Figure size 432x288 with 1 Axes>"
      ]
     },
     "metadata": {
      "needs_background": "light"
     },
     "output_type": "display_data"
    }
   ],
   "source": [
    "df2['item_offers_price'].plot.hist()"
   ]
  },
  {
   "cell_type": "code",
   "execution_count": 77,
   "id": "1c83784c",
   "metadata": {},
   "outputs": [
    {
     "name": "stderr",
     "output_type": "stream",
     "text": [
      "C:\\Users\\ws\\AppData\\Local\\Temp\\ipykernel_13564\\212475669.py:4: SettingWithCopyWarning: \n",
      "A value is trying to be set on a copy of a slice from a DataFrame.\n",
      "Try using .loc[row_indexer,col_indexer] = value instead\n",
      "\n",
      "See the caveats in the documentation: https://pandas.pydata.org/pandas-docs/stable/user_guide/indexing.html#returning-a-view-versus-a-copy\n",
      "  df2['price_range'] = pd.cut(df2['item_offers_price'],bins,labels=labels,include_lowest=True)\n"
     ]
    },
    {
     "data": {
      "text/plain": [
       "20k_40k      3600\n",
       "40k_60k      2771\n",
       "60k_80k      2183\n",
       "80k_100k     1171\n",
       "0_20k        1037\n",
       "100k_120k     697\n",
       "Name: price_range, dtype: int64"
      ]
     },
     "execution_count": 77,
     "metadata": {},
     "output_type": "execute_result"
    }
   ],
   "source": [
    "# Create custom bin for sales; convert continuous variables to range variables\n",
    "bins = [0,20000,40000,60000,80000,100000,120000] \n",
    "labels = ['0_20k','20k_40k','40k_60k','60k_80k','80k_100k','100k_120k'] # bins name\n",
    "df2['price_range'] = pd.cut(df2['item_offers_price'],bins,labels=labels,include_lowest=True)\n",
    "df2['price_range'].value_counts()"
   ]
  },
  {
   "cell_type": "code",
   "execution_count": 82,
   "id": "0e589099",
   "metadata": {},
   "outputs": [],
   "source": [
    "df3 = df2.groupby('price_range')['item_brand_name'].count().reset_index()"
   ]
  },
  {
   "cell_type": "code",
   "execution_count": 86,
   "id": "58cedfa7",
   "metadata": {},
   "outputs": [
    {
     "data": {
      "text/html": [
       "<div>\n",
       "<style scoped>\n",
       "    .dataframe tbody tr th:only-of-type {\n",
       "        vertical-align: middle;\n",
       "    }\n",
       "\n",
       "    .dataframe tbody tr th {\n",
       "        vertical-align: top;\n",
       "    }\n",
       "\n",
       "    .dataframe thead th {\n",
       "        text-align: right;\n",
       "    }\n",
       "</style>\n",
       "<table border=\"1\" class=\"dataframe\">\n",
       "  <thead>\n",
       "    <tr style=\"text-align: right;\">\n",
       "      <th></th>\n",
       "      <th>price_range</th>\n",
       "      <th>item_brand_name</th>\n",
       "    </tr>\n",
       "  </thead>\n",
       "  <tbody>\n",
       "    <tr>\n",
       "      <th>0</th>\n",
       "      <td>0_20k</td>\n",
       "      <td>1037</td>\n",
       "    </tr>\n",
       "    <tr>\n",
       "      <th>1</th>\n",
       "      <td>20k_40k</td>\n",
       "      <td>3600</td>\n",
       "    </tr>\n",
       "    <tr>\n",
       "      <th>2</th>\n",
       "      <td>40k_60k</td>\n",
       "      <td>2771</td>\n",
       "    </tr>\n",
       "    <tr>\n",
       "      <th>3</th>\n",
       "      <td>60k_80k</td>\n",
       "      <td>2183</td>\n",
       "    </tr>\n",
       "    <tr>\n",
       "      <th>4</th>\n",
       "      <td>80k_100k</td>\n",
       "      <td>1171</td>\n",
       "    </tr>\n",
       "    <tr>\n",
       "      <th>5</th>\n",
       "      <td>100k_120k</td>\n",
       "      <td>697</td>\n",
       "    </tr>\n",
       "  </tbody>\n",
       "</table>\n",
       "</div>"
      ],
      "text/plain": [
       "  price_range  item_brand_name\n",
       "0       0_20k             1037\n",
       "1     20k_40k             3600\n",
       "2     40k_60k             2771\n",
       "3     60k_80k             2183\n",
       "4    80k_100k             1171\n",
       "5   100k_120k              697"
      ]
     },
     "execution_count": 86,
     "metadata": {},
     "output_type": "execute_result"
    }
   ],
   "source": [
    "df3"
   ]
  },
  {
   "cell_type": "code",
   "execution_count": 87,
   "id": "6e5885fb",
   "metadata": {},
   "outputs": [
    {
     "data": {
      "image/png": "[encoded data removed]",
      "text/plain": [
       "<Figure size 432x288 with 1 Axes>"
      ]
     },
     "metadata": {
      "needs_background": "light"
     },
     "output_type": "display_data"
    }
   ],
   "source": [
    "df3.plot(y='item_brand_name',kind='bar',alpha=0.8,color='wheat')\n",
    "plt.show()"
   ]
  },
  {
   "cell_type": "code",
   "execution_count": null,
   "id": "bf63cc35",
   "metadata": {},
   "outputs": [],
   "source": []
  }
 ],
 "metadata": {
  "kernelspec": {
   "display_name": "Python 3 (ipykernel)",
   "language": "python",
   "name": "python3"
  },
  "language_info": {
   "codemirror_mode": {
    "name": "ipython",
    "version": 3
   },
   "file_extension": ".py",
   "mimetype": "text/x-python",
   "name": "python",
   "nbconvert_exporter": "python",
   "pygments_lexer": "ipython3",
   "version": "3.10.4"
  }
 },
 "nbformat": 4,
 "nbformat_minor": 5
}
